{
 "cells": [
  {
   "cell_type": "markdown",
   "metadata": {},
   "source": [
    "## ZAP Sessions\n",
    "ZAP allows the user to store a session for a crawled application, reload that into context and perform scan operations on the session. However, there are few things to remember here.\n",
    "1. You can only use a session file once. Once the session is used for scan operations, it is rendered \"tainted\" which means that it has scan results, etc. \n",
    "2. So, in order to use a session file to perform \"parameterization\", its advisable to store the untainted version of the session file in a location, copy it over to another location and then load the copied session file in ZAP for scanning, etc. \n",
    "\n",
    "Here we have a session file called `api.session` in the `orig_session` directory. We are going to copy the `api.session` over to the `temp_session` directory and perform ZAP Scanning Operations on it, programmatically. We will then use the copied session file at ZAP and perform, scanning, etc. "
   ]
  },
  {
   "cell_type": "markdown",
   "metadata": {},
   "source": [
    "### Copying the session file to `temp_session` folder"
   ]
  },
  {
   "cell_type": "code",
   "execution_count": 15,
   "metadata": {},
   "outputs": [
    {
     "name": "stdout",
     "output_type": "stream",
     "text": [
      "File has been copied successfully\n"
     ]
    }
   ],
   "source": [
    "import shutil\n",
    "import os\n",
    "import glob\n",
    "\n",
    "src = 'orig_session/'\n",
    "dst = 'temp_session/'\n",
    "for filename in glob.glob(os.path.join(src, '*.*')):\n",
    "    shutil.copy(filename, dst)\n",
    "## check if file exists in temp session directory\n",
    "if os.path.isfile('temp_session/api.session'):\n",
    "    print(\"File has been copied successfully\")\n",
    "else:\n",
    "    print(\"File has not been found in temp session directory\")"
   ]
  },
  {
   "cell_type": "markdown",
   "metadata": {},
   "source": [
    "### Start ZAP and initialize API"
   ]
  },
  {
   "cell_type": "code",
   "execution_count": 2,
   "metadata": {},
   "outputs": [],
   "source": [
    "# we will be using python's subprocess to start ZAP in GUI and headless modes\n",
    "\n",
    "import subprocess\n",
    "import os\n",
    "from IPython.display import display\n",
    "\n",
    "#GUI ZAP\n",
    "base_path = '/Applications/OWASP_ZAP.app/Contents/Java/'\n",
    "gui_command = base_path + 'zap.sh -config api.disablekey=true -port 8090'\n",
    "# you can use the config param to specify set specific configurations you need when you launch the CLI.\n",
    "# In this case, I am (actually don't need to) starting ZAP with the API Key disabled and listening port 8090\n",
    "\n",
    "headless_command = base_path + 'zap.sh -daemon -config api.disablekey=true -port 8090'\n",
    "#by specifying 'daemon' in the CLI, ZAP starts in Headless mode\n",
    "\n",
    "zap_process = subprocess.Popen(gui_command.split(' '), stdout = open(os.devnull, 'w'))"
   ]
  },
  {
   "cell_type": "markdown",
   "metadata": {},
   "source": [
    "### Initialize ZAP API"
   ]
  },
  {
   "cell_type": "code",
   "execution_count": 16,
   "metadata": {},
   "outputs": [],
   "source": [
    "from zapv2 import ZAPv2 as ZAP #import ZAP library\n",
    "import time\n",
    "\n",
    "zap = ZAP(proxies = {'http': 'http://localhost:8090', 'https': 'http://localhost:8090'})\n",
    "#setting the local ZAP instance that is open on your local system"
   ]
  },
  {
   "cell_type": "markdown",
   "metadata": {},
   "source": [
    "### Load Session"
   ]
  },
  {
   "cell_type": "code",
   "execution_count": 17,
   "metadata": {},
   "outputs": [
    {
     "name": "stdout",
     "output_type": "stream",
     "text": [
      "/Users/abhaybhargav/Documents/Code/Python/zap_mini_workshop/temp_session/api.session\n"
     ]
    },
    {
     "data": {
      "text/plain": [
       "'OK'"
      ]
     },
     "execution_count": 17,
     "metadata": {},
     "output_type": "execute_result"
    }
   ],
   "source": [
    "session_file = os.path.join(os.getcwd(), 'temp_session/api.session')\n",
    "print(session_file)\n",
    "zap.core.load_session(session_file)"
   ]
  },
  {
   "cell_type": "markdown",
   "metadata": {},
   "source": [
    "### Run Active Scan on Host"
   ]
  },
  {
   "cell_type": "code",
   "execution_count": 18,
   "metadata": {},
   "outputs": [
    {
     "name": "stdout",
     "output_type": "stream",
     "text": [
      "active scan id: 0\n",
      "Current Status of ZAP Active Scan: 0%\n",
      "Current Status of ZAP Active Scan: 89%\n",
      "Current Status of ZAP Active Scan: 99%\n"
     ]
    }
   ],
   "source": [
    "# using ZAP's ascan object to start scanning, with the \"Light\" Policy. If you don't specify the policy\n",
    "# ZAP Automatically uses the \"Default\" policy\n",
    "\n",
    "target_url = 'http://localhost:5050/'\n",
    "active_scan_id = zap.ascan.scan(target_url, scanpolicyname='Light')\n",
    "\n",
    "print(\"active scan id: {0}\".format(active_scan_id))\n",
    "\n",
    "#now we can start monitoring the spider's status\n",
    "while int(zap.ascan.status(active_scan_id)) < 100:\n",
    "    print(\"Current Status of ZAP Active Scan: {0}%\".format(zap.ascan.status(active_scan_id)))\n",
    "    time.sleep(10)"
   ]
  },
  {
   "cell_type": "markdown",
   "metadata": {},
   "source": [
    "### Shutdown ZAP"
   ]
  },
  {
   "cell_type": "code",
   "execution_count": 20,
   "metadata": {},
   "outputs": [
    {
     "data": {
      "text/plain": [
       "'OK'"
      ]
     },
     "execution_count": 20,
     "metadata": {},
     "output_type": "execute_result"
    }
   ],
   "source": [
    "zap.core.shutdown()"
   ]
  },
  {
   "cell_type": "markdown",
   "metadata": {},
   "source": [
    "### Delete \"Tainted\" Session files in `temp_session`"
   ]
  },
  {
   "cell_type": "code",
   "execution_count": 21,
   "metadata": {},
   "outputs": [],
   "source": [
    "temp_dir = 'temp_session'\n",
    "for filename in glob.glob(os.path.join(temp_dir, '*.*')):\n",
    "    os.remove(filename)"
   ]
  },
  {
   "cell_type": "code",
   "execution_count": null,
   "metadata": {},
   "outputs": [],
   "source": []
  }
 ],
 "metadata": {
  "kernelspec": {
   "display_name": "Python 3",
   "language": "python",
   "name": "python3"
  },
  "language_info": {
   "codemirror_mode": {
    "name": "ipython",
    "version": 3
   },
   "file_extension": ".py",
   "mimetype": "text/x-python",
   "name": "python",
   "nbconvert_exporter": "python",
   "pygments_lexer": "ipython3",
   "version": "3.6.1"
  }
 },
 "nbformat": 4,
 "nbformat_minor": 2
}
